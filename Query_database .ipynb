{
 "cells": [
  {
   "cell_type": "code",
   "execution_count": 2,
   "metadata": {
    "collapsed": false
   },
   "outputs": [
    {
     "name": "stdout",
     "output_type": "stream",
     "text": [
      "[(315031,)]\n"
     ]
    }
   ],
   "source": [
    "\n",
    "import sqlite3\n",
    "from pprint import pprint\n",
    "from time import time\n",
    "\n",
    "sqlite_file = 'priyanka.db'    #the name of my sqlite database file\n",
    "\n",
    "# Connecting to the database file\n",
    "conn = sqlite3.connect(sqlite_file)\n",
    "c = conn.cursor()\n",
    "\n",
    "\n",
    "\n",
    "# Count the number of rows in 'nodes_tags'\n",
    "query = '''SELECT COUNT(*) as count  FROM nodes_tags '''\n",
    "\n",
    "# execute the query\n",
    "results = c.execute(query) \n",
    "\n",
    "# print the results\n",
    "print list(results)\n",
    "\n",
    "\n"
   ]
  },
  {
   "cell_type": "code",
   "execution_count": 3,
   "metadata": {
    "collapsed": false
   },
   "outputs": [
    {
     "name": "stdout",
     "output_type": "stream",
     "text": [
      "[(666406,)]\n"
     ]
    }
   ],
   "source": [
    "# Count the number of rows in 'WAYS'\n",
    "\n",
    "query = '''SELECT COUNT(*) as count  FROM ways '''\n",
    "\n",
    "# execute the query\n",
    "results = c.execute(query) \n",
    "\n",
    "# print the results\n",
    "print list(results)\n"
   ]
  },
  {
   "cell_type": "code",
   "execution_count": 4,
   "metadata": {
    "collapsed": false
   },
   "outputs": [
    {
     "name": "stdout",
     "output_type": "stream",
     "text": [
      "(u'baptist', 95)\n",
      "(u'methodist', 28)\n",
      "(u'lutheran', 21)\n",
      "(u'catholic', 18)\n",
      "(u'presbyterian', 17)\n",
      "(u'pentecostal', 13)\n",
      "(u'mormon', 5)\n",
      "(u'seventh_day_adventist', 4)\n",
      "(u'anglican', 2)\n",
      "(u'episcopal', 2)\n",
      "(u'jehovahs_witness', 2)\n",
      "(u'protestant', 2)\n",
      "(u'roman_catholic', 2)\n",
      "(u'ahmadiyya', 1)\n",
      "(u'apostolic', 1)\n",
      "(u'latter_day_saints', 1)\n",
      "(u'nazarene', 1)\n",
      "(u'nyingma', 1)\n",
      "(u'quaker', 1)\n"
     ]
    }
   ],
   "source": [
    "# Count the number of different denominations in 'nodes_tags'\n",
    "query = '''select value, count(*) as num from nodes_tags where key=\"denomination\"\\\n",
    "                    group by value \\\n",
    "                    order by num desc'''\n",
    "\n",
    "results = c.execute(query)\n",
    "\n",
    "for r in results: \n",
    "    print r"
   ]
  },
  {
   "cell_type": "code",
   "execution_count": 5,
   "metadata": {
    "collapsed": false
   },
   "outputs": [
    {
     "data": {
      "text/plain": [
       "[(u'78640', 1), (u'78750', 1), (u'78751', 1), (u'78759', 1)]"
      ]
     },
     "execution_count": 5,
     "metadata": {},
     "output_type": "execute_result"
    }
   ],
   "source": [
    "\n",
    "#I would like to find out the neighborhoods where i can find the'italian' cuisine. \n",
    "#Using postal codes \n",
    "#The following  query does it:\n",
    "\n",
    "\n",
    "def postcodes_for_cuisine(cuisine):\n",
    "    query = \"select nodes_tags.value, count(*) as num \\\n",
    "    from nodes_tags \\\n",
    "    join (select distinct(id) from nodes_tags where key='cuisine' and value = {}) as subq \\\n",
    "    on nodes_tags.id = subq.id \\\n",
    "    where nodes_tags.key ='postcode' \\\n",
    "    group by nodes_tags.value \\\n",
    "    order by num desc;\".format(cuisine)\n",
    "    \n",
    "    results = c.execute(query).fetchall()\n",
    "    return results\n",
    "\n",
    "postcodes_for_cuisine(\" 'italian' \") "
   ]
  },
  {
   "cell_type": "code",
   "execution_count": 6,
   "metadata": {
    "collapsed": false
   },
   "outputs": [
    {
     "data": {
      "text/plain": [
       "[(564145569, u'italian'),\n",
       " (599493162, u'italian'),\n",
       " (919340319, u'italian'),\n",
       " (1226387114, u'italian'),\n",
       " (1249567872, u'italian'),\n",
       " (1483931096, u'italian'),\n",
       " (1551323129, u'italian'),\n",
       " (1707739585, u'italian'),\n",
       " (1792530205, u'italian'),\n",
       " (3181872974, u'italian'),\n",
       " (3245054363, u'italian'),\n",
       " (3248316799, u'italian')]"
      ]
     },
     "execution_count": 6,
     "metadata": {},
     "output_type": "execute_result"
    }
   ],
   "source": [
    "#The following Query is continuation to the above Query \n",
    "#It wil print all the 'italian' cuisines with out the postal code \n",
    "\n",
    "def id_wo_postcodes_for_cuisine(cuisine):\n",
    "    query = \"select nodes_tags.id, nodes_tags.value \\\n",
    "    from nodes_tags \\\n",
    "    where  nodes_tags.id not in (select distinct(id) from nodes_tags where key ='postcode') \\\n",
    "    and nodes_tags.key='cuisine' and nodes_tags.value = {}\".format(cuisine)\n",
    "    \n",
    "    results = c.execute(query).fetchall()\n",
    "    return results\n",
    "\n",
    "id_wo_postcodes_for_cuisine(\"'italian'\")\n"
   ]
  },
  {
   "cell_type": "code",
   "execution_count": 7,
   "metadata": {
    "collapsed": false
   },
   "outputs": [
    {
     "name": "stdout",
     "output_type": "stream",
     "text": [
      "(u'ahmadiyya', 1, 0.002380952380952381)\n",
      "(u'anglican', 2, 0.004761904761904762)\n",
      "(u'apostolic', 1, 0.002380952380952381)\n",
      "(u'baptist', 94, 0.22380952380952382)\n",
      "(u'catholic', 18, 0.04285714285714286)\n",
      "(u'episcopal', 2, 0.004761904761904762)\n",
      "(u'jehovahs_witness', 2, 0.004761904761904762)\n",
      "(u'latter_day_saints', 1, 0.002380952380952381)\n",
      "(u'lutheran', 21, 0.05)\n",
      "(u'methodist', 28, 0.06666666666666667)\n",
      "(u'mormon', 5, 0.011904761904761904)\n",
      "(u'nazarene', 1, 0.002380952380952381)\n",
      "(u'nyingma', 1, 0.002380952380952381)\n",
      "(u'pentecostal', 12, 0.02857142857142857)\n",
      "(u'presbyterian', 17, 0.04047619047619048)\n",
      "(u'protestant', 2, 0.004761904761904762)\n",
      "(u'quaker', 1, 0.002380952380952381)\n",
      "(u'roman_catholic', 2, 0.004761904761904762)\n",
      "(u'seventh_day_adventist', 4, 0.009523809523809525)\n"
     ]
    }
   ],
   "source": [
    "#I am trying to get the numbers of churches by denomination\n",
    "result = c.execute('''select value, COUNT(nodes_tags.id) as num, \\\n",
    "(COUNT(nodes_tags.id)*1.0)/(SELECT COUNT(DISTINCT(id)) FROM nodes_tags WHERE value='place_of_worship') as perc from nodes_tags \\\n",
    "JOIN (SELECT DISTINCT(id) FROM nodes_tags WHERE value='place_of_worship') i \\\n",
    "ON nodes_tags.id=i.id \\\n",
    "WHERE nodes_tags.key='denomination' \\\n",
    "GROUP BY nodes_tags.value;''')\n",
    "\n",
    "\n",
    "for i in result: \n",
    "    print i"
   ]
  },
  {
   "cell_type": "code",
   "execution_count": null,
   "metadata": {
    "collapsed": true
   },
   "outputs": [],
   "source": []
  }
 ],
 "metadata": {
  "anaconda-cloud": {},
  "kernelspec": {
   "display_name": "Python [conda root]",
   "language": "python",
   "name": "conda-root-py"
  },
  "language_info": {
   "codemirror_mode": {
    "name": "ipython",
    "version": 2
   },
   "file_extension": ".py",
   "mimetype": "text/x-python",
   "name": "python",
   "nbconvert_exporter": "python",
   "pygments_lexer": "ipython2",
   "version": "2.7.12"
  }
 },
 "nbformat": 4,
 "nbformat_minor": 1
}
